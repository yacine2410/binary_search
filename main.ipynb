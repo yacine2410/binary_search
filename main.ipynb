{
 "cells": [
  {
   "cell_type": "markdown",
   "metadata": {},
   "source": [
    "Binary Search is an algorithm that finds an element in a sorted array by continuously cutting the search area in half. The first known implementation of binary search took place in Babylone around 200 BC on clay tablets used for record keeping. So doing this instead of going through the array one by one in a loop, we get a much nicer time complexity of O(LOG N) instead of O(N) on the sorted array.\n",
    "\n",
    "Let's first start off by creating a list to test the algorithm:"
   ]
  },
  {
   "cell_type": "code",
   "execution_count": 6,
   "metadata": {},
   "outputs": [],
   "source": [
    "#Create a list of a 1000 random integers to test the sorting algorithm on\n",
    "import random\n",
    "\n",
    "#Create a list of random integers of length n\n",
    "def createRandomList(n: int) -> list:\n",
    "    random_list = []\n",
    "    for i in range(0, n):\n",
    "        random_list.append(random.randint(0,1000))\n",
    "    return random_list\n",
    "\n",
    "random_list = createRandomList(1000)"
   ]
  },
  {
   "cell_type": "markdown",
   "metadata": {},
   "source": [
    "And now let's do our search algorithm which returns the index of the number we search for:"
   ]
  },
  {
   "cell_type": "code",
   "execution_count": 7,
   "metadata": {},
   "outputs": [
    {
     "name": "stdout",
     "output_type": "stream",
     "text": [
      "-1\n"
     ]
    }
   ],
   "source": [
    "def binarySearch(arr: list, l: int, r: int, x: int) -> int:\n",
    "    if r >= l: \n",
    "        mid = l + (r - l) // 2\n",
    "        if arr[mid] == x:\n",
    "            return mid\n",
    "        elif arr[mid] > x:\n",
    "            return binarySearch(arr, l, mid - 1, x)\n",
    "        else:\n",
    "            return binarySearch(arr, mid + 1, r, x)\n",
    "    else:                           \n",
    "        return -1\n",
    "\n",
    "print(binarySearch(random_list, 0, len(random_list)-1, 500))"
   ]
  }
 ],
 "metadata": {
  "kernelspec": {
   "display_name": "Python 3",
   "language": "python",
   "name": "python3"
  },
  "language_info": {
   "codemirror_mode": {
    "name": "ipython",
    "version": 3
   },
   "file_extension": ".py",
   "mimetype": "text/x-python",
   "name": "python",
   "nbconvert_exporter": "python",
   "pygments_lexer": "ipython3",
   "version": "3.12.3"
  }
 },
 "nbformat": 4,
 "nbformat_minor": 2
}
